{
  "nbformat": 4,
  "nbformat_minor": 0,
  "metadata": {
    "colab": {
      "provenance": [],
      "collapsed_sections": [],
      "include_colab_link": true
    },
    "kernelspec": {
      "name": "python3",
      "display_name": "Python 3"
    },
    "language_info": {
      "name": "python"
    }
  },
  "cells": [
    {
      "cell_type": "markdown",
      "metadata": {
        "id": "view-in-github",
        "colab_type": "text"
      },
      "source": [
        "<a href=\"https://colab.research.google.com/github/john-sedrak/ML-CV-Project/blob/main/DS_ML_Project_Day_4.ipynb\" target=\"_parent\"><img src=\"https://colab.research.google.com/assets/colab-badge.svg\" alt=\"Open In Colab\"/></a>"
      ]
    },
    {
      "cell_type": "markdown",
      "metadata": {
        "id": "3QzurdpISPnC"
      },
      "source": [
        "\n",
        "#<center> DS ML Capstone Project: Celebrity Face Recognition\n",
        "\n",
        "\n",
        "##### <center>Original work: [Sports Celebrity Image Classification — codebasics](https://youtube.com/playlist?list=PLeo1K3hjS3uvaRHZLl-jLovIjBP14QTXc)\n",
        "##### <center> Prepared by: Ahmed Mokhtar\n",
        "\n",
        "---\n",
        "\n",
        "You have all been waiting for this! It is what the sessions prepared you for in the past 2 semesters. ML modeling! In this notebook, you will experiment with the different ML algorithms we have taken throughout our plan. Moreover, We will evaluate our models using different metrics. Finally, we will tune the algorithms's hyperparameters using [GridSearchCV](https://scikit-learn.org/stable/modules/generated/sklearn.model_selection.GridSearchCV.html)."
      ]
    },
    {
      "cell_type": "markdown",
      "metadata": {
        "id": "WUODK3kFsODa"
      },
      "source": [
        "If you are storing your data on google drive, mount your drive from here."
      ]
    },
    {
      "cell_type": "code",
      "metadata": {
        "id": "v6ct30mEtbCl",
        "colab": {
          "base_uri": "https://localhost:8080/"
        },
        "outputId": "73223f1f-6509-4552-ca9d-815ae385647f"
      },
      "source": [
        "from google.colab import drive\n",
        "drive.mount('/content/drive', force_remount= True)"
      ],
      "execution_count": 5,
      "outputs": [
        {
          "output_type": "stream",
          "name": "stdout",
          "text": [
            "Mounted at /content/drive\n"
          ]
        }
      ]
    },
    {
      "cell_type": "markdown",
      "metadata": {
        "id": "Pdmwc9C_uTRj"
      },
      "source": [
        "Otherwise, you can import the pre-made dataset from here."
      ]
    },
    {
      "cell_type": "code",
      "metadata": {
        "id": "PYmkesXqucVy",
        "colab": {
          "base_uri": "https://localhost:8080/"
        },
        "outputId": "7755b7d7-8c49-46e5-d01a-6faa2b53e3b1"
      },
      "source": [
        "import shutil\n",
        "from os import path\n",
        "\n",
        "if path.exists('./dataset-ready'):\n",
        "    shutil.rmtree('./dataset-ready')\n",
        "\n",
        "if path.exists('./dataset-cropped'):\n",
        "    shutil.rmtree('./dataset-cropped')\n",
        "\n",
        "if path.exists('./dataset'):\n",
        "    shutil.rmtree('./dataset')\n",
        "\n",
        "!git clone https://github.com/IEEE-GUC-DS/dataset-ready.git\n",
        "\n",
        "shutil.move(\"/content/dataset-ready/final_data.pkl\", \"/content/final_data.pkl\")\n",
        "shutil.rmtree('./dataset-ready')"
      ],
      "execution_count": 6,
      "outputs": [
        {
          "output_type": "stream",
          "name": "stdout",
          "text": [
            "Cloning into 'dataset-ready'...\n",
            "remote: Enumerating objects: 8, done.\u001b[K\n",
            "remote: Counting objects: 100% (8/8), done.\u001b[K\n",
            "remote: Compressing objects: 100% (5/5), done.\u001b[K\n",
            "remote: Total 8 (delta 1), reused 6 (delta 1), pack-reused 0\u001b[K\n",
            "Unpacking objects: 100% (8/8), done.\n"
          ]
        }
      ]
    },
    {
      "cell_type": "markdown",
      "metadata": {
        "id": "UKJ2I7BQyDxM"
      },
      "source": [
        "Load your dataset and labels using the code below. Change the path to your dataset's path."
      ]
    },
    {
      "cell_type": "code",
      "metadata": {
        "id": "dfvEmNuCPoL1",
        "colab": {
          "base_uri": "https://localhost:8080/"
        },
        "outputId": "df376bb6-11ba-4327-c1fc-c31355b51f38"
      },
      "source": [
        "import pickle\n",
        "\n",
        "# Getting back the dataset:\n",
        "with open('./drive/MyDrive/datasets/final_data.pkl', 'rb') as f:\n",
        "    X, y, label_lookup = pickle.load(f)\n",
        "\n",
        "print(f\"X shape: {X.shape}\\ny shape: {y.shape}\\n\\nlabels: {label_lookup}\")"
      ],
      "execution_count": 7,
      "outputs": [
        {
          "output_type": "stream",
          "name": "stdout",
          "text": [
            "X shape: (140, 4096)\n",
            "y shape: (140,)\n",
            "\n",
            "labels: {0: 'natalie_portman', 1: 'ed_sheeran', 2: 'lionel_messi', 3: 'terry_crews', 4: 'jennifer_aniston'}\n"
          ]
        }
      ]
    },
    {
      "cell_type": "markdown",
      "metadata": {
        "id": "rXhyxpauJMQn"
      },
      "source": [
        "## Part V: Modeling and Evaluation\n",
        "\n",
        "Follow along with this video as you solve the notebook: [Data Science & Machine Learning Project - Part 5 Training a Model | Image Classification](https://www.youtube.com/watch?v=5Uc_m9CRWro&list=PLeo1K3hjS3uvaRHZLl-jLovIjBP14QTXc&index=5).<br><br>\n",
        "\n",
        "We will begin by training simple models on our dataset. We will use the same models you learned during the sessions."
      ]
    },
    {
      "cell_type": "markdown",
      "metadata": {
        "id": "Co7vBsxEzdNU"
      },
      "source": [
        "<mark>Task: Import any libraries you will need. This includes all the models you want to try, train/test split, GridSearchCV, etc."
      ]
    },
    {
      "cell_type": "code",
      "metadata": {
        "id": "pQaknHFLzugD"
      },
      "source": [
        "from sklearn.linear_model import LogisticRegression\n",
        "from sklearn.svm import SVC\n",
        "from sklearn.ensemble import RandomForestClassifier\n",
        "from sklearn.discriminant_analysis import LinearDiscriminantAnalysis\n",
        "from sklearn.neighbors import KNeighborsClassifier\n",
        "from sklearn.tree import DecisionTreeClassifier\n",
        "\n",
        "from sklearn.preprocessing import MinMaxScaler\n",
        "from sklearn.pipeline import Pipeline\n",
        "\n",
        "import numpy as np"
      ],
      "execution_count": 8,
      "outputs": []
    },
    {
      "cell_type": "markdown",
      "metadata": {
        "id": "AMiiAobo0pVU"
      },
      "source": [
        "Run the following code to guarantee reproducable results."
      ]
    },
    {
      "cell_type": "code",
      "metadata": {
        "id": "Ec7kKhUx0uvl"
      },
      "source": [
        "np.random.seed(7)"
      ],
      "execution_count": 9,
      "outputs": []
    },
    {
      "cell_type": "markdown",
      "metadata": {
        "id": "gSEtfr5E0-dS"
      },
      "source": [
        "<mark>Task: Split your data to train and test sets. Set the ratios according to your intuition. The test set is 25% by default"
      ]
    },
    {
      "cell_type": "code",
      "metadata": {
        "id": "-zBR6Pt614B7"
      },
      "source": [
        "from sklearn.model_selection import train_test_split\n",
        "x_train, x_test, y_train, y_test = train_test_split(X, y, test_size = 0.25, stratify=y)"
      ],
      "execution_count": 10,
      "outputs": []
    },
    {
      "cell_type": "markdown",
      "metadata": {
        "id": "RhbeIezV2CTf"
      },
      "source": [
        "<mark>Question: Which of the algorithms we have taken thus far requires the data to be scaled?\n",
        "\n",
        "Answer: LR, KNN, SVM"
      ]
    },
    {
      "cell_type": "markdown",
      "metadata": {
        "id": "3UOhm2HQ2qQa"
      },
      "source": [
        "<mark>Task: Train the following classifiers on your data. Scale the data when needed. Do not tune the hyperparameters for now. \n",
        "\n",
        "1.  <mark> Logistic Regression (LR)\n",
        "2.  <mark> Decision Tree (DT)\n",
        "3.  <mark> K-Nearest Neighbours (KNN)\n",
        "4.  <mark> Support Vector Machine (SVM)<br>\n",
        "\n",
        " <mark> Get the score of your model on the test set afterwards."
      ]
    },
    {
      "cell_type": "markdown",
      "metadata": {
        "id": "kQvDSOyX6yZW"
      },
      "source": [
        "Tip: Look into the [pipeline](https://scikit-learn.org/stable/modules/generated/sklearn.pipeline.Pipeline.html) function to facilitate scaling before fitting."
      ]
    },
    {
      "cell_type": "markdown",
      "metadata": {
        "id": "gDn-_Xwj3_L_"
      },
      "source": [
        "### Logistic Regression (LR)"
      ]
    },
    {
      "cell_type": "code",
      "metadata": {
        "id": "77RGYsDe4Hd9",
        "colab": {
          "base_uri": "https://localhost:8080/"
        },
        "outputId": "8bef1e86-7b1c-4a46-b077-dbae4efc8b0e"
      },
      "source": [
        "LR_pipe = Pipeline([('scaler', MinMaxScaler()),('lr',LogisticRegression())])\n",
        "\n",
        "LR_pipe.fit(x_train, y_train)\n",
        "LR_pipe.score(x_test, y_test)"
      ],
      "execution_count": 11,
      "outputs": [
        {
          "output_type": "stream",
          "name": "stderr",
          "text": [
            "/usr/local/lib/python3.7/dist-packages/sklearn/linear_model/_logistic.py:818: ConvergenceWarning: lbfgs failed to converge (status=1):\n",
            "STOP: TOTAL NO. of ITERATIONS REACHED LIMIT.\n",
            "\n",
            "Increase the number of iterations (max_iter) or scale the data as shown in:\n",
            "    https://scikit-learn.org/stable/modules/preprocessing.html\n",
            "Please also refer to the documentation for alternative solver options:\n",
            "    https://scikit-learn.org/stable/modules/linear_model.html#logistic-regression\n",
            "  extra_warning_msg=_LOGISTIC_SOLVER_CONVERGENCE_MSG,\n"
          ]
        },
        {
          "output_type": "execute_result",
          "data": {
            "text/plain": [
              "0.8571428571428571"
            ]
          },
          "metadata": {},
          "execution_count": 11
        }
      ]
    },
    {
      "cell_type": "markdown",
      "source": [
        "### K-Nearest Neighbours (KNN)"
      ],
      "metadata": {
        "id": "t710KcjLKeMC"
      }
    },
    {
      "cell_type": "code",
      "source": [
        "KNN_pipe = Pipeline([('scaler', MinMaxScaler()), ('knn', KNeighborsClassifier())])\n",
        "\n",
        "KNN_pipe.fit(x_train, y_train)\n",
        "KNN_pipe.score(x_test, y_test)"
      ],
      "metadata": {
        "id": "0cl5FM00Ke0n",
        "colab": {
          "base_uri": "https://localhost:8080/"
        },
        "outputId": "fe99ed8b-afe1-4351-b7e9-f6148672be12"
      },
      "execution_count": 12,
      "outputs": [
        {
          "output_type": "execute_result",
          "data": {
            "text/plain": [
              "0.7428571428571429"
            ]
          },
          "metadata": {},
          "execution_count": 12
        }
      ]
    },
    {
      "cell_type": "markdown",
      "metadata": {
        "id": "uyaPw11J35lK"
      },
      "source": [
        "### Decision Tree (DT)"
      ]
    },
    {
      "cell_type": "code",
      "metadata": {
        "id": "rwIsp2g-4H46",
        "colab": {
          "base_uri": "https://localhost:8080/"
        },
        "outputId": "f49a864b-8a44-46d8-ff4b-317eb4747f79"
      },
      "source": [
        "DT = DecisionTreeClassifier()\n",
        "DT.fit(x_train, y_train)\n",
        "DT.score(x_test, y_test)"
      ],
      "execution_count": 13,
      "outputs": [
        {
          "output_type": "execute_result",
          "data": {
            "text/plain": [
              "0.5428571428571428"
            ]
          },
          "metadata": {},
          "execution_count": 13
        }
      ]
    },
    {
      "cell_type": "markdown",
      "metadata": {
        "id": "Jzr3xJ5v30AH"
      },
      "source": [
        "### Support Vector Machine (SVM)"
      ]
    },
    {
      "cell_type": "code",
      "metadata": {
        "id": "_Cbkm2zI4IbI",
        "colab": {
          "base_uri": "https://localhost:8080/"
        },
        "outputId": "a73a4a06-5400-4c4d-b0d5-aea2beb4b893"
      },
      "source": [
        "SVC_pipe = Pipeline([('scaler', MinMaxScaler()), ('svc', SVC())])\n",
        "\n",
        "SVC_pipe.fit(x_train, y_train)\n",
        "SVC_pipe.score(x_test, y_test)"
      ],
      "execution_count": 14,
      "outputs": [
        {
          "output_type": "execute_result",
          "data": {
            "text/plain": [
              "0.7428571428571429"
            ]
          },
          "metadata": {},
          "execution_count": 14
        }
      ]
    },
    {
      "cell_type": "markdown",
      "source": [
        "### Linear Discriminant Analysis (LDA)"
      ],
      "metadata": {
        "id": "on8W_dr-kUEV"
      }
    },
    {
      "cell_type": "code",
      "source": [
        "LDA_pipe = Pipeline([('scaler', MinMaxScaler()), ('lda', LinearDiscriminantAnalysis(n_components=4))])\n",
        "\n",
        "LDA_pipe.fit(x_train, y_train)\n",
        "LDA_pipe.score(x_test, y_test)"
      ],
      "metadata": {
        "colab": {
          "base_uri": "https://localhost:8080/"
        },
        "id": "FG5_yeJxkTbd",
        "outputId": "d0ac9dd5-b94c-4031-fbdb-fc7f1db643de"
      },
      "execution_count": 15,
      "outputs": [
        {
          "output_type": "execute_result",
          "data": {
            "text/plain": [
              "0.8285714285714286"
            ]
          },
          "metadata": {},
          "execution_count": 15
        }
      ]
    },
    {
      "cell_type": "markdown",
      "source": [
        "### Random Forest Classifier (RF)"
      ],
      "metadata": {
        "id": "DiJDaJ8zk8zI"
      }
    },
    {
      "cell_type": "code",
      "source": [
        "RF = RandomForestClassifier()\n",
        "\n",
        "RF.fit(x_train, y_train)\n",
        "RF.score(x_test, y_test)"
      ],
      "metadata": {
        "colab": {
          "base_uri": "https://localhost:8080/"
        },
        "id": "nWxM4PcJlAZN",
        "outputId": "98069566-46b6-4d1e-e729-4a6e79a238fc"
      },
      "execution_count": 16,
      "outputs": [
        {
          "output_type": "execute_result",
          "data": {
            "text/plain": [
              "0.7142857142857143"
            ]
          },
          "metadata": {},
          "execution_count": 16
        }
      ]
    },
    {
      "cell_type": "markdown",
      "metadata": {
        "id": "iRuFm_PR8ZAh"
      },
      "source": [
        "<mark> Question: Which model had the best score?\n",
        "\n",
        "Answer: LR"
      ]
    },
    {
      "cell_type": "markdown",
      "metadata": {
        "id": "9uKca19JH9a1"
      },
      "source": [
        "### Evaluation using other Metrics"
      ]
    },
    {
      "cell_type": "markdown",
      "metadata": {
        "id": "t4dhKeGP8zKW"
      },
      "source": [
        "Read the following article to get an understanding of precision, recall, and f1-score: [Precision vs. Recall – An Intuitive Guide for Every Machine Learning Person](https://www.analyticsvidhya.com/blog/2020/09/precision-recall-machine-learning/).\n",
        "\n",
        "\n",
        "<mark>Task: Use the *classification_report* function on your logistic regression model to find the precision, recall, and f1-score."
      ]
    },
    {
      "cell_type": "code",
      "metadata": {
        "id": "zIBDBQcG9MVq",
        "colab": {
          "base_uri": "https://localhost:8080/"
        },
        "outputId": "c0cf6591-d6bd-4a28-8b89-94159b66663a"
      },
      "source": [
        "from sklearn.metrics import classification_report\n",
        "\n",
        "print(classification_report(y_pred = LR_pipe.predict(x_test), y_true = y_test))"
      ],
      "execution_count": 17,
      "outputs": [
        {
          "output_type": "stream",
          "name": "stdout",
          "text": [
            "              precision    recall  f1-score   support\n",
            "\n",
            "           0       0.89      0.80      0.84        10\n",
            "           1       0.86      0.86      0.86         7\n",
            "           2       1.00      0.80      0.89         5\n",
            "           3       0.75      0.75      0.75         4\n",
            "           4       0.82      1.00      0.90         9\n",
            "\n",
            "    accuracy                           0.86        35\n",
            "   macro avg       0.86      0.84      0.85        35\n",
            "weighted avg       0.86      0.86      0.86        35\n",
            "\n"
          ]
        }
      ]
    },
    {
      "cell_type": "markdown",
      "metadata": {
        "id": "lFZt_dubB4oq"
      },
      "source": [
        "<mark> Question: what did you get from the metrics above?\n",
        "\n",
        "Answer: Logistic regression performed well despite the unbalanced dataset."
      ]
    },
    {
      "cell_type": "markdown",
      "metadata": {
        "id": "qg0pnlFVJRin"
      },
      "source": [
        "### Hyperparameter Tuning"
      ]
    },
    {
      "cell_type": "markdown",
      "metadata": {
        "id": "GqO3LUExJsWD"
      },
      "source": [
        "<mark>Task: Use GridSearchCV to find the best hyperparameters for the 4 algorithms above. Use 5-fold cross validation to evaluate your GridSearchCV models."
      ]
    },
    {
      "cell_type": "markdown",
      "metadata": {
        "id": "xgjJGnQ6J7kg"
      },
      "source": [
        "First, specify your models and parameters."
      ]
    },
    {
      "cell_type": "code",
      "metadata": {
        "id": "MKp3etyEH2fp"
      },
      "source": [
        "lr = LogisticRegression(max_iter = 500)\n",
        "lr_params = {'penalty': ['none','l2'], 'C': [0.01, 0.1, 1, 10]}\n",
        "\n",
        "knn = KNeighborsClassifier()\n",
        "knn_params = {\"n_neighbors\": [5,10,15,20,25,30,40,50],  }\n",
        "\n",
        "dt = DecisionTreeClassifier()\n",
        "dt_params = {\"min_impurity_decrease\": [0.0,0.1,0.2,0.3]}\n",
        "\n",
        "svm = SVC()\n",
        "svm_params = {\"kernel\": ['rbf','linear'], 'C': [0.01,0.1,1,10], }"
      ],
      "execution_count": 26,
      "outputs": []
    },
    {
      "cell_type": "markdown",
      "metadata": {
        "id": "DB_eHLjtKGrb"
      },
      "source": [
        "Next, we will use GridSearchCV to train the models. We will loop on all the algorithms, find the best model through 5-fold cross validation, and save the best estimators along with their score."
      ]
    },
    {
      "cell_type": "code",
      "metadata": {
        "id": "JvcYkAc1KLpg"
      },
      "source": [
        "from sklearn.model_selection import GridSearchCV\n",
        "scaler = MinMaxScaler()\n",
        "x_train = scaler.fit_transform(x_train)\n",
        "x_test = scaler.transform(x_test)\n",
        "\n",
        "lr_grid = GridSearchCV(lr, lr_params, cv=5)\n",
        "knn_grid = GridSearchCV(knn, knn_params, cv=5)\n",
        "dt_grid = GridSearchCV(dt, dt_params, cv=5)\n",
        "svm_grid = GridSearchCV(svm, svm_params, cv=5)\n",
        "\n",
        "lr_grid.fit(x_train, y_train, )\n",
        "knn_grid.fit(x_train, y_train, )\n",
        "dt_grid.fit(x_train, y_train,)\n",
        "svm_grid.fit(x_train, y_train,)"
      ],
      "execution_count": null,
      "outputs": []
    },
    {
      "cell_type": "markdown",
      "metadata": {
        "id": "jbW2uryrNRF9"
      },
      "source": [
        "### Further Evaluation"
      ]
    },
    {
      "cell_type": "markdown",
      "metadata": {
        "id": "bSUesdJcNUUK"
      },
      "source": [
        "<mark>Task: Use *classification_report* to evaluate the 4 best models we have."
      ]
    },
    {
      "cell_type": "markdown",
      "metadata": {
        "id": "aAxYFbIKLMZx"
      },
      "source": [
        "### Logistic Regression (LR)"
      ]
    },
    {
      "cell_type": "code",
      "metadata": {
        "id": "82zQvmYqLMZy",
        "colab": {
          "base_uri": "https://localhost:8080/"
        },
        "outputId": "19a42f56-b835-4f97-bb6d-3ce63bd02149"
      },
      "source": [
        "lr_pred = lr_grid.predict(x_test)\n",
        "print(classification_report(y_test, lr_pred))"
      ],
      "execution_count": 35,
      "outputs": [
        {
          "output_type": "stream",
          "name": "stdout",
          "text": [
            "              precision    recall  f1-score   support\n",
            "\n",
            "           0       0.80      0.80      0.80        10\n",
            "           1       0.83      0.71      0.77         7\n",
            "           2       1.00      0.80      0.89         5\n",
            "           3       0.75      0.75      0.75         4\n",
            "           4       0.82      1.00      0.90         9\n",
            "\n",
            "    accuracy                           0.83        35\n",
            "   macro avg       0.84      0.81      0.82        35\n",
            "weighted avg       0.83      0.83      0.83        35\n",
            "\n"
          ]
        }
      ]
    },
    {
      "cell_type": "markdown",
      "source": [
        "### K-Nearest Neighbours (KNN)"
      ],
      "metadata": {
        "id": "jO8dP9nrLMZz"
      }
    },
    {
      "cell_type": "code",
      "source": [
        "knn_pred = knn_grid.predict(x_test)\n",
        "print(classification_report(y_test, knn_pred))"
      ],
      "metadata": {
        "id": "0l2AhDsZLMZz",
        "colab": {
          "base_uri": "https://localhost:8080/"
        },
        "outputId": "b39fda02-23e7-4035-994c-1b7f67e4f21e"
      },
      "execution_count": 36,
      "outputs": [
        {
          "output_type": "stream",
          "name": "stdout",
          "text": [
            "              precision    recall  f1-score   support\n",
            "\n",
            "           0       0.75      0.60      0.67        10\n",
            "           1       0.75      0.43      0.55         7\n",
            "           2       0.80      0.80      0.80         5\n",
            "           3       0.80      1.00      0.89         4\n",
            "           4       0.69      1.00      0.82         9\n",
            "\n",
            "    accuracy                           0.74        35\n",
            "   macro avg       0.76      0.77      0.74        35\n",
            "weighted avg       0.75      0.74      0.73        35\n",
            "\n"
          ]
        }
      ]
    },
    {
      "cell_type": "markdown",
      "metadata": {
        "id": "8uxJULjNLMZz"
      },
      "source": [
        "### Decision Tree (DT)"
      ]
    },
    {
      "cell_type": "code",
      "metadata": {
        "id": "dQM6n2-NLMZz",
        "colab": {
          "base_uri": "https://localhost:8080/"
        },
        "outputId": "baf1f386-6904-4de2-b723-137bc387f6f0"
      },
      "source": [
        "dt_pred = dt_grid.predict(x_test)\n",
        "print(classification_report(y_test, dt_pred))"
      ],
      "execution_count": 37,
      "outputs": [
        {
          "output_type": "stream",
          "name": "stdout",
          "text": [
            "              precision    recall  f1-score   support\n",
            "\n",
            "           0       0.67      0.80      0.73        10\n",
            "           1       0.33      0.14      0.20         7\n",
            "           2       0.67      0.40      0.50         5\n",
            "           3       1.00      1.00      1.00         4\n",
            "           4       0.62      0.89      0.73         9\n",
            "\n",
            "    accuracy                           0.66        35\n",
            "   macro avg       0.66      0.65      0.63        35\n",
            "weighted avg       0.62      0.66      0.62        35\n",
            "\n"
          ]
        }
      ]
    },
    {
      "cell_type": "markdown",
      "metadata": {
        "id": "OG00gJHsLMZ0"
      },
      "source": [
        "### Support Vector Machine (SVM)"
      ]
    },
    {
      "cell_type": "code",
      "metadata": {
        "id": "zLiYclyxLMZ0",
        "colab": {
          "base_uri": "https://localhost:8080/"
        },
        "outputId": "5780fac8-ba5b-40de-f5bd-d598d58c82d1"
      },
      "source": [
        "svm_pred = svm_grid.predict(x_test)\n",
        "print(classification_report(y_test, svm_pred))\n",
        "print(svm_grid.best_params_)"
      ],
      "execution_count": 39,
      "outputs": [
        {
          "output_type": "stream",
          "name": "stdout",
          "text": [
            "              precision    recall  f1-score   support\n",
            "\n",
            "           0       0.80      0.80      0.80        10\n",
            "           1       0.83      0.71      0.77         7\n",
            "           2       1.00      0.80      0.89         5\n",
            "           3       0.75      0.75      0.75         4\n",
            "           4       0.82      1.00      0.90         9\n",
            "\n",
            "    accuracy                           0.83        35\n",
            "   macro avg       0.84      0.81      0.82        35\n",
            "weighted avg       0.83      0.83      0.83        35\n",
            "\n",
            "{'C': 0.01, 'kernel': 'linear'}\n"
          ]
        }
      ]
    },
    {
      "cell_type": "markdown",
      "metadata": {
        "id": "6VPiVO50OhJ_"
      },
      "source": [
        "<mark> Task: Assign the best performing model (in your opinion) to a variable called *best_clf*."
      ]
    },
    {
      "cell_type": "code",
      "metadata": {
        "id": "pQeXMEcJO6CY"
      },
      "source": [
        "best_clf = svm_grid.best_estimator_"
      ],
      "execution_count": 40,
      "outputs": []
    },
    {
      "cell_type": "markdown",
      "metadata": {
        "id": "OGxibtr_PKIT"
      },
      "source": [
        "<mark> Task: Get the confusion matrix of your chosen model when applied to the test set, then display it as a heat map and inspect it."
      ]
    },
    {
      "cell_type": "code",
      "metadata": {
        "id": "lUzBPIHdPA4c",
        "colab": {
          "base_uri": "https://localhost:8080/",
          "height": 286
        },
        "outputId": "095f063b-22a0-4640-ee1a-f96463e3dc19"
      },
      "source": [
        "from sklearn.metrics import confusion_matrix\n",
        "from seaborn import heatmap\n",
        "\n",
        "heatmap(confusion_matrix(y_test, best_clf.predict(x_test)), annot=True)"
      ],
      "execution_count": 43,
      "outputs": [
        {
          "output_type": "execute_result",
          "data": {
            "text/plain": [
              "<matplotlib.axes._subplots.AxesSubplot at 0x7f4f39bf6dd0>"
            ]
          },
          "metadata": {},
          "execution_count": 43
        },
        {
          "output_type": "display_data",
          "data": {
            "text/plain": [
              "<Figure size 432x288 with 2 Axes>"
            ],
            "image/png": "[encoded data removed]"
          },
          "metadata": {
            "needs_background": "light"
          }
        }
      ]
    },
    {
      "cell_type": "markdown",
      "metadata": {
        "id": "N04VqTqQQoU4"
      },
      "source": [
        "With that, we conclude our modeling end evaluation process. We created a decent model to deploy in production. The final step is to save our model!\n",
        "\n",
        "We will be using [joblib.dump](https://joblib.readthedocs.io/en/latest/generated/joblib.dump.html) to save our mode because it is faster when dealing with numpy arrays. Models in general use numpy arrays to save parameters, and models like SVMs or K-nearest neighbours store parts of the dataset as well.  "
      ]
    },
    {
      "cell_type": "markdown",
      "metadata": {
        "id": "IuFfUFr9c_2U"
      },
      "source": [
        "<mark>Task: Use joblib to Save your model!"
      ]
    },
    {
      "cell_type": "code",
      "metadata": {
        "id": "LkxJ4175dL9W",
        "colab": {
          "base_uri": "https://localhost:8080/"
        },
        "outputId": "f6f325bf-6404-471f-ce57-fc2df5aa09dc"
      },
      "source": [
        "from joblib import dump\n",
        "\n",
        "final_scaler = MinMaxScaler()\n",
        "final_model = best_clf\n",
        "\n",
        "final_scaler.fit_transform(X)\n",
        "final_model.fit(X,y)\n",
        "\n",
        "dump(final_scaler, 'scaler.joblib')\n",
        "dump(final_model, 'classifier.joblib')"
      ],
      "execution_count": 46,
      "outputs": [
        {
          "output_type": "execute_result",
          "data": {
            "text/plain": [
              "['classifier.joblib']"
            ]
          },
          "metadata": {},
          "execution_count": 46
        }
      ]
    },
    {
      "cell_type": "markdown",
      "metadata": {
        "id": "Eumnec5ld1yM"
      },
      "source": [
        "With our model saved, we can say that we have officially created a face recognition model! This is exciting and you should be proud of yourself! In the remaining notebooks, we will tackle deployment. We will deploy our model using [flask](https://flask.palletsprojects.com/en/2.0.x/) and [AWS](https://aws.amazon.com). \n",
        "\n",
        "Rock on!! <font color=\"red\">♥</font>‿<font color=\"red\">♥</font>\n",
        "\n",
        "<center><img src=\"https://i.imgur.com/l5Yr3vV.png\" width=\"30%\">"
      ]
    }
  ]
}