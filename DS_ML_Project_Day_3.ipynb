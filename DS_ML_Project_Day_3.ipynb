{
  "nbformat": 4,
  "nbformat_minor": 0,
  "metadata": {
    "colab": {
      "provenance": [],
      "collapsed_sections": [],
      "include_colab_link": true
    },
    "kernelspec": {
      "name": "python3",
      "display_name": "Python 3"
    },
    "language_info": {
      "name": "python"
    }
  },
  "cells": [
    {
      "cell_type": "markdown",
      "metadata": {
        "id": "view-in-github",
        "colab_type": "text"
      },
      "source": [
        "<a href=\"https://colab.research.google.com/github/john-sedrak/ML-CV-Project/blob/main/DS_ML_Project_Day_3.ipynb\" target=\"_parent\"><img src=\"https://colab.research.google.com/assets/colab-badge.svg\" alt=\"Open In Colab\"/></a>"
      ]
    },
    {
      "cell_type": "markdown",
      "metadata": {
        "id": "12GOSP2kftEj"
      },
      "source": [
        "\n",
        "#<center> DS ML Capstone Project: Celebrity Face Recognition\n",
        "\n",
        "\n",
        "##### <center>Original work: [Sports Celebrity Image Classification — codebasics](https://youtube.com/playlist?list=PLeo1K3hjS3uvaRHZLl-jLovIjBP14QTXc)\n",
        "##### <center> Prepared by: Ahmed Mokhtar\n",
        "\n",
        "---\n",
        "\n",
        "After cleaning our dataset, it is ready for ML. Right?... Well, partially. A good data scientist will always look for ways to manipulate the data in order to bring out the information hidden within it. Extracting meaningful features from the data is called [feature engineering](https://machinelearningmastery.com/discover-feature-engineering-how-to-engineer-features-and-how-to-get-good-at-it/). It is the focus of this notebook. \n",
        "\n",
        "As usual, before we start our notebook we will have to load our dataset. If you are storing it on google drive, mount your drive first."
      ]
    },
    {
      "cell_type": "code",
      "metadata": {
        "id": "TBa_6Wnm7rb7",
        "colab": {
          "base_uri": "https://localhost:8080/"
        },
        "outputId": "c16c8292-d814-43df-8255-e47dd140f9a0"
      },
      "source": [
        "from google.colab import drive\n",
        "drive.mount('/content/drive')"
      ],
      "execution_count": 1,
      "outputs": [
        {
          "output_type": "stream",
          "name": "stdout",
          "text": [
            "Mounted at /content/drive\n"
          ]
        }
      ]
    },
    {
      "cell_type": "markdown",
      "metadata": {
        "id": "CLk6KG9b7tJd"
      },
      "source": [
        "Alternatively, you can use this this pre-prepared dataset:"
      ]
    },
    {
      "cell_type": "code",
      "metadata": {
        "id": "QCypABZg8KxI",
        "colab": {
          "base_uri": "https://localhost:8080/"
        },
        "outputId": "4fc42198-daa1-424c-c666-b541d941ee5f"
      },
      "source": [
        "import shutil\n",
        "from os import path\n",
        "\n",
        "if path.exists('./dataset'):\n",
        "    shutil.rmtree('./dataset')\n",
        "\n",
        "if path.exists('./dataset-cropped'):\n",
        "    shutil.rmtree('./dataset-cropped')\n",
        "\n",
        "!git clone https://github.com/IEEE-GUC-DS/dataset-cropped.git"
      ],
      "execution_count": 2,
      "outputs": [
        {
          "output_type": "stream",
          "name": "stdout",
          "text": [
            "Cloning into 'dataset-cropped'...\n",
            "remote: Enumerating objects: 563, done.\u001b[K\n",
            "remote: Counting objects: 100% (25/25), done.\u001b[K\n",
            "remote: Compressing objects: 100% (15/15), done.\u001b[K\n",
            "remote: Total 563 (delta 9), reused 25 (delta 9), pack-reused 538\u001b[K\n",
            "Receiving objects: 100% (563/563), 93.84 MiB | 38.68 MiB/s, done.\n",
            "Resolving deltas: 100% (11/11), done.\n"
          ]
        }
      ]
    },
    {
      "cell_type": "markdown",
      "metadata": {
        "id": "zmU8YsYUCDXL"
      },
      "source": [
        "<font color=\"orange\">N.B. You will need to click the refresh button to see any changes in your directory.</font><br>\n",
        "<center><img src=\"https://i.imgur.com/2VxcX9E.png\" alt=\"refresh\">\n"
      ]
    },
    {
      "cell_type": "markdown",
      "metadata": {
        "id": "obXIdIJSCHnm"
      },
      "source": [
        "## Part IV: Feature Engineering\n",
        "\n",
        "Follow along with this video as you solve the notebook: [Data Science & Machine Learning Project - Part 4 Feature Engineering | Image Classification](https://www.youtube.com/watch?v=sWAPtaBZKBQ&list=PLeo1K3hjS3uvaRHZLl-jLovIjBP14QTXc&index=4).<br><br>\n",
        "\n",
        "In this notebook we will be using [wavelet packet decomposition](https://en.wikipedia.org/wiki/Wavelet_packet_decomposition) to get more pronounced edges from the image. This makes it easier for our model to detect face structure. We will use the [PyWavelets](https://pywavelets.readthedocs.io/en/latest/) library to perform the decomposition. "
      ]
    },
    {
      "cell_type": "markdown",
      "metadata": {
        "id": "FX8wrw7gW6Zf"
      },
      "source": [
        "<mark>Task: Import the needed libraries. Including OpenCV and PyWavelets (import pywt)."
      ]
    },
    {
      "cell_type": "code",
      "metadata": {
        "id": "E5DQKo4gW420"
      },
      "source": [
        "import numpy as np\n",
        "import cv2\n",
        "import pywt\n",
        "import matplotlib.pyplot as plt\n",
        "%matplotlib inline\n",
        "import os"
      ],
      "execution_count": 3,
      "outputs": []
    },
    {
      "cell_type": "markdown",
      "metadata": {
        "id": "8V5E8MpHW2E9"
      },
      "source": [
        "Watch this intelligible explanation of the intuition behind wavelet decompositions: [Wavelet Transform Analysis of Images using Python](https://www.youtube.com/watch?v=ExU0izGXgSI).\n",
        "\n",
        "Key takeaways:\n",
        "\n",
        "\n",
        "*   The decomposition is achieved by convolving the image with a low pass filter (only low frequencies are allowed), and a high pass filter (only high frequencies are allowed). Then we [downsample](https://en.wikipedia.org/wiki/Downsampling_(signal_processing)) the result.\n",
        "*   High frequencies contain information about the edges (alongside noise).\n",
        "\n",
        "*   For 2D decompositions, we do a 1D decomposition on one of the axes. Then, we decompose the result on the other axis. This gives us 4 matrices.\n",
        "\n",
        "*    The approximation coefficient matrix (*cA*) contains the low frequency information of the image. Most of the information present in the image resides here.\n",
        "\n",
        "*    The horizontal detailed coefficient matrix (*cH*) has information about the horizontal edges.\n",
        "\n",
        "*    The vertical detailed coefficient matrix (*cV*) has information about the vertical edges.\n",
        "\n",
        "*    The diagonal detailed coefficient matrix (*cD*) has information about the diagonal edges.\n",
        "\n",
        "*    Wavelet transform is just a single level wavelet decomposition.<br><br>\n",
        "\n",
        "So now that we have some intution, what is our plan? How can we leverage wavelet decomposition to extract useful features?\n",
        "\n",
        "Having a clear representation of edges would be helpful! We can decompose the image to get the 4 coefficient matrices. Subsequently, we can get rid of the *cA* matrix, since we are only concerned about the edges. Finally, we can reconstruct the image back wihout *cA*. Thus, giving us a visualization of the edges present in the original image. Sounds like a solid plan!<br><br>\n",
        "\n",
        "We are interested in 2 functions from the `pywt` library:\n",
        "\n",
        "\n",
        "\n",
        "1.   [pywt.wavedec2](https://pywavelets.readthedocs.io/en/latest/ref/2d-dwt-and-idwt.html#d-multilevel-decomposition-using-wavedec2): This function takes the image and returns a list. The first element in the list is *cA* (get rid of it by multiplying it with 0). Each one of the remaining elements is tuple containing 3 matrices, the *cHn*, *cVn*, and *cDn*. Where *n* is the current decomposition level. Set the `wavelet` parameter to \"db1\", and the `level` parameter to 5. **This function only takes grayscale normalized images!**\n",
        "2.   [pywt.waverec2](https://pywavelets.readthedocs.io/en/latest/ref/2d-dwt-and-idwt.html#d-multilevel-reconstruction-using-waverec2): This function takes the coefficient matrices and returns the reconstructed image. Set the `wavelet` parameter to \"db1\". Remember to scale your reconstruction back (multiply it by 255).\n",
        "\n",
        "I have given you the recipe, it is your turn to execute!\n",
        "\n",
        "<mark>Task: Write a function called 'w2d' that takes an image and returns another image that contains information about the edges only.  \n",
        "\n"
      ]
    },
    {
      "cell_type": "code",
      "metadata": {
        "id": "NScQvBynaVt6"
      },
      "source": [
        "def w2d(img):\n",
        "  wavelet = 'db1'\n",
        "  gr_img = cv2.cvtColor(img, cv2.COLOR_RGB2GRAY)\n",
        "  gr_img = np.float32(gr_img)\n",
        "  gr_img /= 255\n",
        "  dec_img = pywt.wavedec2(gr_img, wavelet, level=5)\n",
        "  # print(dec_img[5][2].shape)\n",
        "  dec_img[0] *= 0\n",
        "  rec_img = pywt.waverec2(dec_img, wavelet)\n",
        "  rec_img *= 255\n",
        "  rec_img = np.uint8(rec_img)\n",
        "  return rec_img\n",
        "  \n"
      ],
      "execution_count": 4,
      "outputs": []
    },
    {
      "cell_type": "markdown",
      "metadata": {
        "id": "YOJVb-FQY_6j"
      },
      "source": [
        "<mark>Task: Test your function on an image from the dataset, and display the result."
      ]
    },
    {
      "cell_type": "code",
      "metadata": {
        "id": "ZBZI3O7OZHSD",
        "colab": {
          "base_uri": "https://localhost:8080/",
          "height": 283
        },
        "outputId": "7ea9c68f-79aa-450e-9fe4-f220e51a72e1"
      },
      "source": [
        "img = cv2.imread('/content/drive/MyDrive/datasets/cropped/jennifer_aniston/13bfcc7be6.jpg')\n",
        "rec_img = w2d(img)\n",
        "res_rec_img = cv2.resize(rec_img, (32,32))\n",
        "plt.imshow(res_rec_img, cmap='Greys')"
      ],
      "execution_count": 11,
      "outputs": [
        {
          "output_type": "execute_result",
          "data": {
            "text/plain": [
              "<matplotlib.image.AxesImage at 0x7f7e9387e1d0>"
            ]
          },
          "metadata": {},
          "execution_count": 11
        },
        {
          "output_type": "display_data",
          "data": {
            "text/plain": [
              "<Figure size 432x288 with 1 Axes>"
            ],
            "image/png": "[encoded data removed]"
          },
          "metadata": {
            "needs_background": "light"
          }
        }
      ]
    },
    {
      "cell_type": "markdown",
      "metadata": {
        "id": "8egALE9tgix3"
      },
      "source": [
        "We now need to apply our method to all the faces in the dataset. However, we need to keep the original faces as well, since they contain features not present in the edge representation. Therefore, we need to stack both images using numpy. We can also notice that the dataset images have varying dimensions. This is bad news for our model! Training on certain image dimensions and testing on unseen dimensions will yield terrible performance. For this reason, we should rescale all the images to uniform dimensions. In the video we chose 32 x 32 for memory and time complexity reasons. One last thing to be careful with is the shape of the data. Each row should be a sample, and each column should be a feature (or a pixel). Therefore we should reshape our samples to make them 1-dimensional.\n",
        "\n",
        "It is now time to prepare the input of your model, along with the labels (X, y).\n",
        "\n",
        "<mark>Task: Make a list called 'X' that contains the flattened stacked 32x32 images and the 32x32 edge representations. Make another list called 'y' that contains the labels, assign a number to each of your classes. You should keep track of these numbers in a dictionary."
      ]
    },
    {
      "cell_type": "code",
      "metadata": {
        "id": "vqS1DxuLpcu_"
      },
      "source": [
        "label_lookup = {}\n",
        "cr_dir = '/content/drive/MyDrive/datasets/cropped/'\n",
        "X = []\n",
        "y = []\n",
        "i = 0\n",
        "for dir in os.listdir(cr_dir):\n",
        "  label_lookup[i] = dir\n",
        "  person_dir = cr_dir + dir\n",
        "  \n",
        "  for path in os.listdir(person_dir):\n",
        "    img = cv2.imread(person_dir + '/' + path)\n",
        "    resized_raw_img = cv2.resize(img, (32,32))\n",
        "    resized_rec_img = cv2.resize(w2d(img), (32,32))\n",
        "    stacked = np.vstack([resized_raw_img.reshape(-1,1), resized_rec_img.reshape(-1,1)])\n",
        "    X.append(stacked)\n",
        "    y.append(i)\n",
        "\n",
        "  i+=1\n"
      ],
      "execution_count": 24,
      "outputs": []
    },
    {
      "cell_type": "markdown",
      "metadata": {
        "id": "iVfmh1Jny4mp"
      },
      "source": [
        "<mark>Task: You should convert your lists to numpy arrays. Moreover, you should double check their shapes. The rows should contain the samples, and each column should contain a single feature (pixel). You should have a total of 4096 columns. Finally, convert the X array to type float."
      ]
    },
    {
      "cell_type": "code",
      "metadata": {
        "id": "mnWM8AvT0AVj",
        "colab": {
          "base_uri": "https://localhost:8080/"
        },
        "outputId": "97fcde0a-78b1-42a9-fc16-7012ab77c97e"
      },
      "source": [
        "X = np.array(X)\n",
        "X = X.reshape(140, 4096)\n",
        "y = np.array(y)\n",
        "print(X.shape, y.shape)"
      ],
      "execution_count": 25,
      "outputs": [
        {
          "output_type": "stream",
          "name": "stdout",
          "text": [
            "(140, 4096) (140,)\n"
          ]
        }
      ]
    },
    {
      "cell_type": "markdown",
      "metadata": {
        "id": "FoydDvl40p9X"
      },
      "source": [
        "Saving these variables is helpful for our next notebook. Use the following cell to save them. Then upload the file to your drive.\n",
        "\n",
        "<font color=\"orange\">N.B. Replace the variable `label_lookup` with the name of the dictionary you used to store label names.</font><br>"
      ]
    },
    {
      "cell_type": "code",
      "metadata": {
        "id": "QOGmgNc800nC"
      },
      "source": [
        "import pickle\n",
        "\n",
        "# Saving the dataset:\n",
        "with open('./drive/MyDrive/datasets/final_data.pkl', 'wb') as f:\n",
        "    pickle.dump([X, y, label_lookup], f)"
      ],
      "execution_count": 26,
      "outputs": []
    },
    {
      "cell_type": "markdown",
      "metadata": {
        "id": "c7dRs8csKdB8"
      },
      "source": [
        "You did it! You have successfully prepared a dataset for ML from scratch. This is not something trivial. In the next notebook, you will finally get to train and evaluate your model on your very own image dataset. This is where you will see the fruits of your labor. But for now, enjoy your day.\n",
        "\n",
        "You are doing great! (•ᵕ•)/<font color=\"red\">♥</font><br>\n",
        "\n",
        "<center><img src=\"https://c.tenor.com/aV2NHR_Vs4wAAAAM/break-breaktime.gif\" width=\"40%\">"
      ]
    },
    {
      "cell_type": "code",
      "source": [],
      "metadata": {
        "id": "NcDapFSozA00"
      },
      "execution_count": null,
      "outputs": []
    }
  ]
}